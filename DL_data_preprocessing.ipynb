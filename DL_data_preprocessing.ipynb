{
 "cells": [
  {
   "cell_type": "code",
   "execution_count": 1,
   "metadata": {},
   "outputs": [],
   "source": [
    "import numpy as np"
   ]
  },
  {
   "cell_type": "code",
   "execution_count": 69,
   "metadata": {},
   "outputs": [
    {
     "data": {
      "text/plain": [
       "array([[ 0., -1., -1., -1., -1., -1., -1., -1., -1., -1., -1., -1., -1.,\n",
       "        -1., -1., -1., -1., -1., -1., -1.,  1.],\n",
       "       [ 1., -1., -1., -1., -1., -1., -1., -1., -1., -1., -1., -1., -1.,\n",
       "        -1., -1.,  1., -1., -1., -1.,  1., -1.],\n",
       "       [ 2., -1., -1., -1.,  1., -1., -1., -1., -1., -1., -1., -1., -1.,\n",
       "        -1., -1., -1., -1., -1., -1., -1., -1.],\n",
       "       [ 3., -1., -1., -1., -1., -1., -1., -1., -1., -1., -1., -1., -1.,\n",
       "         1., -1.,  1., -1., -1., -1., -1., -1.],\n",
       "       [ 4., -1., -1., -1., -1., -1., -1., -1., -1., -1.,  1., -1., -1.,\n",
       "        -1., -1., -1., -1., -1., -1., -1., -1.],\n",
       "       [ 5., -1., -1., -1., -1.,  1., -1., -1., -1., -1., -1., -1., -1.,\n",
       "        -1., -1., -1., -1., -1., -1., -1., -1.],\n",
       "       [ 6., -1., -1., -1., -1., -1., -1., -1., -1., -1., -1., -1., -1.,\n",
       "        -1., -1., -1., -1., -1., -1., -1.,  1.],\n",
       "       [ 7., -1., -1., -1., -1., -1., -1., -1., -1., -1., -1., -1.,  1.,\n",
       "        -1., -1., -1., -1., -1., -1., -1., -1.],\n",
       "       [ 8.,  1., -1., -1., -1., -1., -1., -1., -1., -1., -1., -1., -1.,\n",
       "        -1., -1., -1., -1., -1., -1., -1., -1.],\n",
       "       [ 9., -1., -1., -1., -1.,  1., -1., -1., -1., -1., -1., -1., -1.,\n",
       "        -1., -1.,  1., -1., -1., -1., -1.,  1.]])"
      ]
     },
     "execution_count": 69,
     "metadata": {},
     "output_type": "execute_result"
    }
   ],
   "source": [
    "# construct a list 'classes' to store all classes\n",
    "classes = ['aeroplane','bicycle','bird','boat','bottle','bus','car','cat','chair','cow',\\\n",
    "           'diningtable','dog','horse','motorbike','person','pottedplant','sheep','sofa','train','tvmonitor']\n",
    "# load all data to an ndarray 'data'\n",
    "data = np.loadtxt('./data2012/'+classes[0]+'_trainval.txt')\n",
    "for classesi in classes[1:20]:\n",
    "    temp = np.loadtxt('./data2012/'+classesi+'_trainval.txt')\n",
    "    data = np.concatenate((data,temp),axis=1)\n",
    "# delete the repeated columns in 'data'\n",
    "didx = list(range(0,40,2))\n",
    "data = np.delete(data,didx,axis=1)\n",
    "idx = np.arange(11540).reshape(11540,1) # add indices to each image\n",
    "data = np.concatenate((idx,data),axis=1)\n",
    "data[0:10]\n",
    "# data.shape"
   ]
  },
  {
   "cell_type": "code",
   "execution_count": 62,
   "metadata": {},
   "outputs": [
    {
     "data": {
      "text/plain": [
       "{'aeroplane': 670.0,\n",
       " 'bicycle': 552.0,\n",
       " 'bird': 765.0,\n",
       " 'boat': 508.0,\n",
       " 'bottle': 706.0,\n",
       " 'bus': 421.0,\n",
       " 'car': 1161.0,\n",
       " 'cat': 1080.0,\n",
       " 'chair': 1119.0,\n",
       " 'cow': 303.0,\n",
       " 'diningtable': 538.0,\n",
       " 'dog': 1286.0,\n",
       " 'horse': 482.0,\n",
       " 'motorbike': 526.0,\n",
       " 'person': 4087.0,\n",
       " 'pottedplant': 527.0,\n",
       " 'sheep': 325.0,\n",
       " 'sofa': 507.0,\n",
       " 'train': 544.0,\n",
       " 'tvmonitor': 575.0}"
      ]
     },
     "execution_count": 62,
     "metadata": {},
     "output_type": "execute_result"
    }
   ],
   "source": [
    "# compute the number of positive samples for each class\n",
    "data[data==-1] = 0 \n",
    "nclasses = np.sum(data,axis=0)\n",
    "nclassdict = dict(zip(classes,nclasses[1:21]))\n",
    "nclassdict"
   ]
  },
  {
   "cell_type": "code",
   "execution_count": 71,
   "metadata": {},
   "outputs": [
    {
     "data": {
      "text/plain": [
       "[('cow', 303.0),\n",
       " ('sheep', 325.0),\n",
       " ('bus', 421.0),\n",
       " ('horse', 482.0),\n",
       " ('sofa', 507.0),\n",
       " ('boat', 508.0),\n",
       " ('motorbike', 526.0),\n",
       " ('pottedplant', 527.0),\n",
       " ('diningtable', 538.0),\n",
       " ('train', 544.0),\n",
       " ('bicycle', 552.0),\n",
       " ('tvmonitor', 575.0),\n",
       " ('aeroplane', 670.0),\n",
       " ('bottle', 706.0),\n",
       " ('bird', 765.0),\n",
       " ('cat', 1080.0),\n",
       " ('chair', 1119.0),\n",
       " ('car', 1161.0),\n",
       " ('dog', 1286.0),\n",
       " ('person', 4087.0)]"
      ]
     },
     "execution_count": 71,
     "metadata": {},
     "output_type": "execute_result"
    }
   ],
   "source": [
    "# reorder the dictionary according to the number of items\n",
    "nclassdict0 = sorted(nclassdict.items(),key = lambda item:item[1])\n",
    "nclassdict0\n",
    "# type(nclassdict0)"
   ]
  },
  {
   "cell_type": "code",
   "execution_count": 54,
   "metadata": {},
   "outputs": [
    {
     "data": {
      "text/plain": [
       "[9, 16, 5, 12, 17, 3, 13, 15, 10, 18, 1, 19, 0, 4, 2, 7, 8, 6, 11, 14]"
      ]
     },
     "execution_count": 54,
     "metadata": {},
     "output_type": "execute_result"
    }
   ],
   "source": [
    "classidx = []\n",
    "for value in nclassdict0:\n",
    "    classidx.append(classes.index(value[0]))\n",
    "classidx"
   ]
  },
  {
   "cell_type": "code",
   "execution_count": 77,
   "metadata": {},
   "outputs": [],
   "source": [
    "def reorder(data,idx):\n",
    "    for idxi in idx:\n",
    "        data = data[data[:,idxi].argsort()]\n",
    "#         data1 = data[d]\n",
    "#         reorder(data[:,idxi],idx[1:])\n",
    "    return data\n"
   ]
  },
  {
   "cell_type": "code",
   "execution_count": 76,
   "metadata": {},
   "outputs": [
    {
     "data": {
      "text/plain": [
       "list"
      ]
     },
     "execution_count": 76,
     "metadata": {},
     "output_type": "execute_result"
    }
   ],
   "source": [
    "# a = [[1,2,3,4],[1,0,2,0]]\n",
    "# # a[a[:,1]==1]=10\n",
    "# type(a)"
   ]
  },
  {
   "cell_type": "code",
   "execution_count": 66,
   "metadata": {},
   "outputs": [
    {
     "ename": "IndexError",
     "evalue": "too many indices for array",
     "output_type": "error",
     "traceback": [
      "\u001b[1;31m---------------------------------------------------------------------------\u001b[0m",
      "\u001b[1;31mIndexError\u001b[0m                                Traceback (most recent call last)",
      "\u001b[1;32m<ipython-input-66-10c0c970f3e2>\u001b[0m in \u001b[0;36m<module>\u001b[1;34m()\u001b[0m\n\u001b[0;32m      4\u001b[0m \u001b[1;31m#     datanew = datanew[value]\u001b[0m\u001b[1;33m\u001b[0m\u001b[1;33m\u001b[0m\u001b[0m\n\u001b[0;32m      5\u001b[0m \u001b[1;32mfor\u001b[0m \u001b[0mvalue\u001b[0m \u001b[1;32min\u001b[0m \u001b[0mclassidx\u001b[0m\u001b[1;33m:\u001b[0m\u001b[1;33m\u001b[0m\u001b[0m\n\u001b[1;32m----> 6\u001b[1;33m     \u001b[0mdatanew\u001b[0m\u001b[1;33m[\u001b[0m\u001b[1;33m:\u001b[0m\u001b[1;33m,\u001b[0m\u001b[0mvalue\u001b[0m\u001b[1;33m]\u001b[0m\u001b[1;33m[\u001b[0m\u001b[0mdatanew\u001b[0m\u001b[1;33m==\u001b[0m\u001b[1;36m1\u001b[0m\u001b[1;33m]\u001b[0m \u001b[1;33m=\u001b[0m \u001b[0mvalue\u001b[0m\u001b[1;33m\u001b[0m\u001b[0m\n\u001b[0m\u001b[0;32m      7\u001b[0m \u001b[1;31m# datanew[:,3]\u001b[0m\u001b[1;33m\u001b[0m\u001b[1;33m\u001b[0m\u001b[0m\n",
      "\u001b[1;31mIndexError\u001b[0m: too many indices for array"
     ]
    }
   ],
   "source": [
    "datanew = data\n",
    "\n",
    "# for value in classidx:\n",
    "#     datanew = datanew[value]\n",
    "for valuei in classidx:\n",
    "    for valuej in datanew[:,valuei]:\n",
    "        datanew[datanew==1] = valuei\n",
    "#     datanew[:,value][datanew==1] = value\n",
    "# datanew[:,3]\n"
   ]
  },
  {
   "cell_type": "code",
   "execution_count": 47,
   "metadata": {},
   "outputs": [
    {
     "data": {
      "text/plain": [
       "[['2008_000002'],\n",
       " ['2008_000003'],\n",
       " ['2008_000007'],\n",
       " ['2008_000008'],\n",
       " ['2008_000009'],\n",
       " ['2008_000015'],\n",
       " ['2008_000016'],\n",
       " ['2008_000019'],\n",
       " ['2008_000021'],\n",
       " ['2008_000023']]"
      ]
     },
     "execution_count": 47,
     "metadata": {},
     "output_type": "execute_result"
    }
   ],
   "source": [
    "# import the name/index of each image\n",
    "data0 = []\n",
    "with open('./data2012/trainval.txt', 'r') as file:\n",
    "    datatemp = file.readlines()  \n",
    "    for line in datatemp:\n",
    "        linei = line.split()\n",
    "        data0.append(linei)\n",
    "data0[0:10]\n",
    "# type(data0)"
   ]
  },
  {
   "cell_type": "code",
   "execution_count": 48,
   "metadata": {},
   "outputs": [
    {
     "ename": "TypeError",
     "evalue": "unhashable type: 'list'",
     "output_type": "error",
     "traceback": [
      "\u001b[1;31m---------------------------------------------------------------------------\u001b[0m",
      "\u001b[1;31mTypeError\u001b[0m                                 Traceback (most recent call last)",
      "\u001b[1;32m<ipython-input-48-f9643b68595b>\u001b[0m in \u001b[0;36m<module>\u001b[1;34m()\u001b[0m\n\u001b[1;32m----> 1\u001b[1;33m \u001b[0mdatadict\u001b[0m \u001b[1;33m=\u001b[0m \u001b[0mdict\u001b[0m\u001b[1;33m(\u001b[0m\u001b[0mzip\u001b[0m\u001b[1;33m(\u001b[0m\u001b[0mdata0\u001b[0m\u001b[1;33m,\u001b[0m\u001b[0midx\u001b[0m\u001b[1;33m)\u001b[0m\u001b[1;33m)\u001b[0m\u001b[1;33m\u001b[0m\u001b[0m\n\u001b[0m",
      "\u001b[1;31mTypeError\u001b[0m: unhashable type: 'list'"
     ]
    }
   ],
   "source": [
    "datadict = dict(zip(data0,idx))"
   ]
  },
  {
   "cell_type": "code",
   "execution_count": null,
   "metadata": {},
   "outputs": [],
   "source": []
  }
 ],
 "metadata": {
  "kernelspec": {
   "display_name": "Python 3",
   "language": "python",
   "name": "python3"
  },
  "language_info": {
   "codemirror_mode": {
    "name": "ipython",
    "version": 3
   },
   "file_extension": ".py",
   "mimetype": "text/x-python",
   "name": "python",
   "nbconvert_exporter": "python",
   "pygments_lexer": "ipython3",
   "version": "3.6.4"
  }
 },
 "nbformat": 4,
 "nbformat_minor": 2
}
